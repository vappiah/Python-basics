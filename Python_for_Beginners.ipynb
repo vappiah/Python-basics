{
  "nbformat": 4,
  "nbformat_minor": 0,
  "metadata": {
    "colab": {
      "name": "Python for Beginners.ipynb",
      "provenance": [],
      "authorship_tag": "ABX9TyMmRBEiQOLELBnIbn1FzDZK",
      "include_colab_link": true
    },
    "kernelspec": {
      "name": "python3",
      "display_name": "Python 3"
    },
    "language_info": {
      "name": "python"
    }
  },
  "cells": [
    {
      "cell_type": "markdown",
      "metadata": {
        "id": "view-in-github",
        "colab_type": "text"
      },
      "source": [
        "<a href=\"https://colab.research.google.com/github/vappiah/Python-basics/blob/main/Python_for_Beginners.ipynb\" target=\"_parent\"><img src=\"https://colab.research.google.com/assets/colab-badge.svg\" alt=\"Open In Colab\"/></a>"
      ]
    },
    {
      "cell_type": "code",
      "metadata": {
        "id": "k_6hod7WU7Xz"
      },
      "source": [
        ""
      ],
      "execution_count": null,
      "outputs": []
    },
    {
      "cell_type": "markdown",
      "metadata": {
        "id": "GAgcSqG0U8kF"
      },
      "source": [
        "#**Python Programming for Beginners**"
      ]
    },
    {
      "cell_type": "code",
      "metadata": {
        "id": "VP_VhIWZVH-n"
      },
      "source": [
        ""
      ],
      "execution_count": null,
      "outputs": []
    },
    {
      "cell_type": "markdown",
      "metadata": {
        "id": "pKDw184HVqKT"
      },
      "source": [
        "This to note:\n",
        "\n",
        "the # symbol denotes a comment. therefore any line beginning with # is not considered to be a code and python will not execute that line.\n",
        "displaying items on the screen is done using the print function. "
      ]
    },
    {
      "cell_type": "code",
      "metadata": {
        "id": "60KEV73WWJiq"
      },
      "source": [
        "#This is a comment"
      ],
      "execution_count": null,
      "outputs": []
    },
    {
      "cell_type": "code",
      "metadata": {
        "id": "rDqbSTlHWL-E"
      },
      "source": [
        "#to display the number 1 \n",
        "print(1)"
      ],
      "execution_count": null,
      "outputs": []
    },
    {
      "cell_type": "code",
      "metadata": {
        "id": "LvQo8sPOWYFB"
      },
      "source": [
        "#display Hello World\n",
        "print('Hello World')"
      ],
      "execution_count": null,
      "outputs": []
    },
    {
      "cell_type": "markdown",
      "metadata": {
        "id": "Yzs6nyjSVLvE"
      },
      "source": [
        "###**Part 1 - Data Types**"
      ]
    },
    {
      "cell_type": "markdown",
      "metadata": {
        "id": "Nhpqs6xdVPrI"
      },
      "source": [
        "In this section we cover the basic python data types\n",
        "\n",
        "- integers\n",
        "- floats\n",
        "- strings\n",
        "- lists\n",
        "- tuples\n",
        "- dictionaries\n"
      ]
    },
    {
      "cell_type": "code",
      "metadata": {
        "id": "qQEu8Kj-WrgU"
      },
      "source": [
        "#integers are numbers without decimal places eg. 0, 12, 256,etc\n",
        "#lets try an example"
      ],
      "execution_count": null,
      "outputs": []
    },
    {
      "cell_type": "code",
      "metadata": {
        "id": "h5yjAPywWo-Z"
      },
      "source": [
        "#example\n",
        "my_integer=2\n",
        "\n",
        "#display the integer variable you created\n",
        "print(my_integer)"
      ],
      "execution_count": null,
      "outputs": []
    },
    {
      "cell_type": "code",
      "metadata": {
        "id": "zm3QbeL1XMeI"
      },
      "source": [
        "#another example\n",
        "\n",
        "mynumber=10\n",
        "\n",
        "print(mynumber)"
      ],
      "execution_count": null,
      "outputs": []
    },
    {
      "cell_type": "code",
      "metadata": {
        "id": "1TFstRRyVF4T"
      },
      "source": [
        ""
      ],
      "execution_count": null,
      "outputs": []
    },
    {
      "cell_type": "code",
      "metadata": {
        "id": "eK96bmdYVBNY"
      },
      "source": [
        ""
      ],
      "execution_count": null,
      "outputs": []
    }
  ]
}